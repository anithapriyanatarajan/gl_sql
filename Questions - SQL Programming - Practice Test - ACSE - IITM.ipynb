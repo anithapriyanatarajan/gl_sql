{
  "nbformat": 4,
  "nbformat_minor": 0,
  "metadata": {
    "colab": {
      "name": "Questions - SQL Programming - Practice Test - ACSE - IITM.ipynb",
      "provenance": [],
      "collapsed_sections": []
    },
    "kernelspec": {
      "name": "python3",
      "display_name": "Python 3"
    }
  },
  "cells": [
    {
      "cell_type": "markdown",
      "metadata": {
        "id": "FicjAlQHA3a7"
      },
      "source": [
        "<img src=\"http://drive.google.com/uc?export=view&id=1tpOCamr9aWz817atPnyXus8w5gJ3mIts\" width=500px>\n",
        "\n",
        "Proprietary content. © Great Learning. All Rights Reserved. Unauthorized use or distribution prohibited."
      ]
    },
    {
      "cell_type": "markdown",
      "metadata": {
        "id": "fXEy7iu-A7bZ"
      },
      "source": [
        "---\n",
        "# Practice Test - Advanced Certificate in Software Engineering - IIT Madras\n",
        "---"
      ]
    },
    {
      "cell_type": "markdown",
      "metadata": {
        "id": "BYdJwSSOAp4s"
      },
      "source": [
        "# Instructions\n",
        "\n",
        "- You need to add the code where ever you see \"`/* Add your code here */`\"\n",
        "- **Do not edit any of the prefilled text/code part**"
      ]
    },
    {
      "cell_type": "markdown",
      "metadata": {
        "id": "LU3Iwf1hPqus"
      },
      "source": [
        "## Run below cells before starting the test - Mandatory"
      ]
    },
    {
      "cell_type": "markdown",
      "metadata": {
        "id": "G9HdHP93iSYK"
      },
      "source": [
        "#### Please run the below cell. Don't edit anything."
      ]
    },
    {
      "cell_type": "code",
      "metadata": {
        "id": "tCqvlOraEqxG"
      },
      "source": [
        "!pip install --upgrade pip\n",
        "!pip install ipython-sql\n",
        "\n",
        "%load_ext sql\n",
        "%sql sqlite://"
      ],
      "execution_count": null,
      "outputs": []
    },
    {
      "cell_type": "markdown",
      "metadata": {
        "id": "ZscktdzrlhWn"
      },
      "source": [
        "#### Please run the below cell. Don't edit anything."
      ]
    },
    {
      "cell_type": "code",
      "metadata": {
        "id": "eWB3XeC4OZY9"
      },
      "source": [
        "%%sql\n",
        "\n",
        "DROP TABLE IF EXISTS `employee`;\n",
        "CREATE TABLE `employee`\n",
        "(\n",
        "   `empcode`      INT(4),\n",
        "   `empname`     VARCHAR(15),\n",
        "   `job`          VARCHAR(45),\n",
        "   `hiredate`     DATE,\n",
        "   `salary`       INT(6),\n",
        "   `commission`   INT(6)\n",
        ");\n",
        "\n",
        "INSERT INTO `employee` values (939, 'Jim', 'SOFTWARE ENGINEER', '1980-12-17', 2800,0);\n",
        "INSERT INTO `employee` values (949, 'Dwight', 'SALESMAN', '1981-02-20', 1600, 300);    \n",
        "INSERT INTO `employee` values (966, 'Micheal', 'MANAGER','1981-04-02', 3570,0);\n",
        "insert into `employee` values (654,'Andy','SALESMAN','1981-09-28',1250,1400);\n",
        "insert into `employee` values (782,'Kevin','MANAGER','1981-06-09',2940,0);\n",
        "insert into `employee` values (788,'Pam','ANALYST', '1982-12-09',3000,0);\n",
        "insert into `employee` values (939,'Oscar','PRESIDENT','1981-11-17',5000,0);\n",
        "insert into `employee` values (984,'Creed','SALESMAN','1981-09-08',1500,0);\n",
        "insert into `employee` values (986,'Angela','SOFTWARE ENGINEER','1983-01-12',3100, 0);\n",
        "insert into `employee` values (990,'Bob','TECHNICAL LEAD','1981-12-03',2950,0);\n",
        "insert into `employee` values (902,'James','ANALYST','1981-12-03',3000,0);\n",
        "insert into `employee` values (994,'John','SOFTWARE ENGINEER','1982-01-23',3300,0);\n",
        "insert into `employee` values (991,'Wendy', 'SALESMAN','1981-02-22',500,0);\n",
        "insert into `employee` values (698,'Joe', 'MANAGER','1981-05-01',3420,0);\n",
        "insert into `employee` values (977,'Max', 'ANALYST','1981-05-01',2000,200);\n",
        "insert into `employee` values (960,'Stanely', 'ANALYST','1992-06-21',7000,100);\n",
        "insert into `employee` values (861,'Jennifer','ANALYST','1996-07-01',5000,100);\n"
      ],
      "execution_count": null,
      "outputs": []
    },
    {
      "cell_type": "markdown",
      "metadata": {
        "id": "BBRUrOvmljk6"
      },
      "source": [
        "#### Please run the below cell. Don't edit anything."
      ]
    },
    {
      "cell_type": "code",
      "metadata": {
        "id": "0AUcA_lzObxB"
      },
      "source": [
        "%%sql\n",
        "\n",
        "select * from employee;"
      ],
      "execution_count": null,
      "outputs": []
    },
    {
      "cell_type": "markdown",
      "metadata": {
        "id": "n_nkNWZYUamf"
      },
      "source": [
        "---"
      ]
    },
    {
      "cell_type": "markdown",
      "metadata": {
        "id": "RE3TZXuYOzRT"
      },
      "source": [
        "### **Refer to the `employee` table to answer the below questions**"
      ]
    },
    {
      "cell_type": "markdown",
      "metadata": {
        "id": "wJpUPm5z9q8E"
      },
      "source": [
        "## Question 1"
      ]
    },
    {
      "cell_type": "markdown",
      "metadata": {
        "id": "ezu6WUNdT950"
      },
      "source": [
        "Find out the lowest and highest (`salary+commission`) for each `job` in `employee` table"
      ]
    },
    {
      "cell_type": "code",
      "metadata": {
        "id": "3QbEcHmGIz9W"
      },
      "source": [
        "%%sql\n",
        "\n",
        "/* Add your code here */"
      ],
      "execution_count": null,
      "outputs": []
    },
    {
      "cell_type": "markdown",
      "metadata": {
        "id": "aufrK2gSUI2B"
      },
      "source": [
        "## Question 2"
      ]
    },
    {
      "cell_type": "markdown",
      "metadata": {
        "id": "wYq7j6axUMWp"
      },
      "source": [
        "Find out the the top three highest paying jobs (`salary+commission`) from the `employee` table.  "
      ]
    },
    {
      "cell_type": "code",
      "metadata": {
        "id": "fqFuhgC8MF2E"
      },
      "source": [
        "%%sql\n",
        "\n",
        "/* Add your code here */"
      ],
      "execution_count": null,
      "outputs": []
    },
    {
      "cell_type": "markdown",
      "metadata": {
        "id": "YafvJWJKUQic"
      },
      "source": [
        "## Question 3"
      ]
    },
    {
      "cell_type": "markdown",
      "metadata": {
        "id": "yeOiv5koG5QS"
      },
      "source": [
        "Find out all the details of `employee` with the third highest `salary`.  "
      ]
    },
    {
      "cell_type": "code",
      "metadata": {
        "id": "L-NXqBqZTGGH"
      },
      "source": [
        "%%sql\n",
        "\n",
        "/* Add your code here */"
      ],
      "execution_count": null,
      "outputs": []
    }
  ]
}